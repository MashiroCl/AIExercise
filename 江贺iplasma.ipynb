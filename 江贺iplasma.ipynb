{
 "cells": [
  {
   "cell_type": "code",
   "execution_count": 1,
   "metadata": {},
   "outputs": [
    {
     "name": "stdout",
     "output_type": "stream",
     "text": [
      "16 8 9\n"
     ]
    }
   ],
   "source": [
    "filename=\"E:\\江贺项目\\iPlasmaValidation\\V_hsqldb.txt\"\n",
    "file=open(filename)\n",
    "all_lines=file.readlines()\n",
    "all_lines_dict=[]\n",
    "num_1=0\n",
    "num_2=0\n",
    "num_3=0\n",
    "for each in all_lines:\n",
    "    temp=each.split()\n",
    "    if(temp[2]==\"true\"):\n",
    "        num_1=num_1+1\n",
    "    if(temp[3]==\"true\"):\n",
    "        num_2=num_2+1\n",
    "    if(temp[4]==\"true\"):\n",
    "        num_3=num_3+1\n",
    "    all_lines_dict.append(temp)\n",
    "\n",
    "print(num_1,num_2,num_3)"
   ]
  },
  {
   "cell_type": "code",
   "execution_count": 2,
   "metadata": {},
   "outputs": [],
   "source": [
    "import csv\n",
    "csvname=\"E:\\江贺项目\\iPlasmaValidation\\ValidationHsqldb.csv\"\n",
    "with open(csvname,'w',newline='') as csvFile:\n",
    "    csvWriter = csv.writer(csvFile)\n",
    "#   csvWriter.writerow(head)\n",
    "    for each in all_lines_dict:\n",
    "        csvWriter.writerow(each)\n",
    "        pass\n",
    "    csvFile.close()"
   ]
  },
  {
   "cell_type": "markdown",
   "metadata": {},
   "source": [
    "## Iplasma预测与实际结果进行对比"
   ]
  },
  {
   "cell_type": "code",
   "execution_count": 3,
   "metadata": {},
   "outputs": [
    {
     "name": "stdout",
     "output_type": "stream",
     "text": [
      "              precision    recall  f1-score   support\n",
      "\n",
      "           0       0.50      1.00      0.67         1\n",
      "           1       0.50      0.50      0.50         2\n",
      "           2       1.00      0.67      0.80         3\n",
      "\n",
      "   micro avg       0.67      0.67      0.67         6\n",
      "   macro avg       0.67      0.72      0.66         6\n",
      "weighted avg       0.75      0.67      0.68         6\n",
      "\n"
     ]
    }
   ],
   "source": [
    "#test\n",
    "import numpy as np\n",
    "from sklearn.metrics import classification_report\n",
    "y_true =np.array([0,1,2,2,2,1])\n",
    "y_pred = np.array([0,0,1,2,2,1])\n",
    "print(classification_report(y_true,y_pred))"
   ]
  },
  {
   "cell_type": "code",
   "execution_count": 5,
   "metadata": {},
   "outputs": [],
   "source": [
    "#数据读取，并按照address来进行对应\n",
    "import csv\n",
    "csv_Iplasma=r\"E:\\江贺项目\\iPlasmaValidation\\ValidationHsqldb.csv\"\n",
    "csv_Validation=r\"E:\\江贺项目\\12_19\\validation_exp\\Hsqldb.csv\"\n",
    "\n",
    "#Iplasma\n",
    "data=csv.reader(open(csv_Iplasma))\n",
    "new_csvI=[]\n",
    "for row in data:\n",
    "    temp=[]\n",
    "    temp.append(row[1])\n",
    "    #Refused Bequest 1\n",
    "    temp.append(row[2])\n",
    "    #Refused Bequest Interface\n",
    "#     temp.append(row[4])\n",
    "    new_csvI.append(temp)\n",
    "# print(new_csvI)\n",
    "\n",
    "#Valiation\n",
    "data=csv.reader(open(csv_Validation))\n",
    "new_csvV=[]\n",
    "temp_num=0\n",
    "for row in data:\n",
    "    temp=[]\n",
    "    temp.append(row[1])\n",
    "    temp.append(row[34])\n",
    "    new_csvV.append(temp)\n",
    "\n",
    "y_Validation=[]\n",
    "y_Iplasma=[]\n",
    "for eachI in new_csvI:\n",
    "    for eachV in new_csvV:\n",
    "        if(eachV[0]==eachI[0]):\n",
    "            if(eachI[1]==\"FALSE\" or eachI[1]==\"false\"):\n",
    "                y_Iplasma.append(0)\n",
    "            elif(eachI[1]==\"TRUE\" or eachI[1]==\"true\"):\n",
    "                y_Iplasma.append(1)\n",
    "            if(eachV[1]==\"0\" or eachV[1]==0):\n",
    "                y_Validation.append(0)\n",
    "            elif(eachV[1]==\"1\" or eachV[1]==1):\n",
    "                y_Validation.append(1)\n",
    "                \n",
    "            \n",
    "# print(len(y_true))\n",
    "# print(len(y_pred))\n",
    "# num=0\n",
    "# for each in y_true:\n",
    "#     if(each==1):\n",
    "#         num=num +1\n",
    "# print(num)"
   ]
  },
  {
   "cell_type": "code",
   "execution_count": 26,
   "metadata": {},
   "outputs": [],
   "source": [
    "#把label为1的写到tempcsv\n",
    "# csvname=r\"E:\\江贺项目\\iPlasmaValidation\\temp.csv\"\n",
    "# with open(csvname,'w',newline='') as csvFile:\n",
    "#     csvWriter = csv.writer(csvFile)\n",
    "# #   csvWriter.writerow(head)\n",
    "#     for each in new_csvI:\n",
    "#         if(each[1]==\"TRUE\"):\n",
    "#             csvWriter.writerow(each)\n",
    "#     csvFile.close()"
   ]
  },
  {
   "cell_type": "code",
   "execution_count": 6,
   "metadata": {},
   "outputs": [
    {
     "name": "stdout",
     "output_type": "stream",
     "text": [
      "              precision    recall  f1-score   support\n",
      "\n",
      "           0       0.98      0.98      0.98       500\n",
      "           1       0.10      0.08      0.09        12\n",
      "\n",
      "   micro avg       0.96      0.96      0.96       512\n",
      "   macro avg       0.54      0.53      0.54       512\n",
      "weighted avg       0.96      0.96      0.96       512\n",
      "\n"
     ]
    }
   ],
   "source": [
    "from sklearn import metrics\n",
    "print(metrics.classification_report(y_Validation,y_Iplasma))"
   ]
  }
 ],
 "metadata": {
  "kernelspec": {
   "display_name": "Python 3",
   "language": "python",
   "name": "python3"
  },
  "language_info": {
   "codemirror_mode": {
    "name": "ipython",
    "version": 3
   },
   "file_extension": ".py",
   "mimetype": "text/x-python",
   "name": "python",
   "nbconvert_exporter": "python",
   "pygments_lexer": "ipython3",
   "version": "3.7.2"
  }
 },
 "nbformat": 4,
 "nbformat_minor": 2
}
