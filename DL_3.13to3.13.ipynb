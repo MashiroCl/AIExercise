{
 "cells": [
  {
   "cell_type": "code",
   "execution_count": null,
   "metadata": {},
   "outputs": [],
   "source": [
    "import d2lzh as d2l\n",
    "from mxnet import autograd,gluon,init,nd\n",
    "from mxnet.gluon import loss as gloss,nn\n",
    "\n",
    "def dropout(X,drop_prob):\n",
    "    assert 0<=drop_prob<=1\n",
    "    keep_prob=1-drop_prob\n",
    "    if keep_prob==0:\n",
    "        return X.zeros_like()\n",
    "    mask=nd.random.uniform(0,1,X.shape)<keep_prob\n",
    "    return mask*X/keep_prob"
   ]
  },
  {
   "cell_type": "code",
   "execution_count": 6,
   "metadata": {},
   "outputs": [
    {
     "data": {
      "text/plain": [
       "\n",
       "[[ 0.  1.  2.  3.  4.  5.  6.  7.]\n",
       " [ 8.  9. 10. 11. 12. 13. 14. 15.]]\n",
       "<NDArray 2x8 @cpu(0)>"
      ]
     },
     "execution_count": 6,
     "metadata": {},
     "output_type": "execute_result"
    }
   ],
   "source": [
    "X=nd.arange(16).reshape((2,8))\n",
    "dropout(X,0)"
   ]
  },
  {
   "cell_type": "code",
   "execution_count": 26,
   "metadata": {},
   "outputs": [
    {
     "data": {
      "text/plain": [
       "\n",
       "[[0. 0. 0. 0. 0. 0. 0. 0.]\n",
       " [0. 0. 0. 0. 0. 0. 0. 0.]]\n",
       "<NDArray 2x8 @cpu(0)>"
      ]
     },
     "execution_count": 26,
     "metadata": {},
     "output_type": "execute_result"
    }
   ],
   "source": [
    "X=nd.arange(16).reshape((2,8))\n",
    "dropout(X,1)"
   ]
  },
  {
   "cell_type": "markdown",
   "metadata": {},
   "source": [
    "#### 包含两个隐藏层的多层感知机 "
   ]
  },
  {
   "cell_type": "code",
   "execution_count": 27,
   "metadata": {},
   "outputs": [],
   "source": [
    "num_inputs,num_outputs,num_hiddens1,num_hiddens2=784,10,256,256\n",
    "W1=nd.random.normal(scale=0.01,shape=(num_inputs,num_hiddens1))\n",
    "b1=nd.zeros(num_hiddens1)\n",
    "W2=nd.random.normal(scale=0.01,shape=(num_hiddens1,num_hiddens2))\n",
    "b2=nd.zeros(num_hiddens2)\n",
    "W3=nd.random.normal(scale=0.01,shape=(num_hiddens2,num_outputs))\n",
    "b3=nd.zeros(num_outputs)\n",
    "\n",
    "params=[W1,b1,W2,b2,W3,b3]\n",
    "for param in params:\n",
    "    param.attach_grad()"
   ]
  },
  {
   "cell_type": "code",
   "execution_count": 30,
   "metadata": {},
   "outputs": [],
   "source": [
    "drop_prob1,drop_prob2=0.2,0.5\n",
    "\n",
    "def net(X):\n",
    "    X=X.reshape((-1,num_inputs))\n",
    "    H1=(nd.dot(X,W1)+b1).relu()\n",
    "    if (autograd.is_training()):\n",
    "        H1=dropout(H1,drop_prob1)\n",
    "    H2=(nd.dot(H1,W2)+b2).relu()\n",
    "    if (autograd.is_training()):\n",
    "        H2=dropout(H2,drop_prob1)\n",
    "    return nd.dot(H2,W3)+b3"
   ]
  },
  {
   "cell_type": "code",
   "execution_count": 31,
   "metadata": {},
   "outputs": [
    {
     "name": "stdout",
     "output_type": "stream",
     "text": [
      "epoch 1, loss 1.2122, train acc 0.528, test acc 0.763\n",
      "epoch 2, loss 0.5899, train acc 0.777, test acc 0.835\n",
      "epoch 3, loss 0.4969, train acc 0.818, test acc 0.843\n",
      "epoch 4, loss 0.4522, train acc 0.834, test acc 0.859\n",
      "epoch 5, loss 0.4178, train acc 0.846, test acc 0.863\n"
     ]
    }
   ],
   "source": [
    "num_epochs,lr,batch_size=5,0.5,256\n",
    "loss=gloss.SoftmaxCrossEntropyLoss()\n",
    "from mxnet.gluon import data as gdata\n",
    "mnist_train = gdata.vision.FashionMNIST(root=\"E:/ML_Dataset/fashionMNIT/\",train=True)\n",
    "mnist_test = gdata.vision.FashionMNIST(root=\"E:/ML_Dataset/fashionMNIT/\",train=False)\n",
    "num_workers=0\n",
    "transformer=gdata.vision.transforms.ToTensor()\n",
    "train_iter=gdata.DataLoader(mnist_train.transform_first(transformer),\n",
    "                            batch_size,shuffle=True,num_workers=num_workers)\n",
    "test_iter=gdata.DataLoader(mnist_test.transform_first(transformer),\n",
    "                            batch_size,shuffle=False,num_workers=num_workers)\n",
    "d2l.train_ch3(net,train_iter,test_iter,loss,num_epochs,batch_size,params,lr)"
   ]
  },
  {
   "cell_type": "markdown",
   "metadata": {},
   "source": [
    "### 简洁实现 "
   ]
  },
  {
   "cell_type": "code",
   "execution_count": 32,
   "metadata": {},
   "outputs": [],
   "source": [
    "net=nn.Sequential()\n",
    "net.add(nn.Dense(256,activation=\"relu\"),\n",
    "       nn.Dropout(drop_prob1),\n",
    "       nn.Dense(256,activation=\"relu\"),\n",
    "       nn.Dropout(drop_prob2),\n",
    "       nn.Dense(10))\n",
    "net.initialize(init.Normal(sigma=0.01))"
   ]
  },
  {
   "cell_type": "code",
   "execution_count": 34,
   "metadata": {},
   "outputs": [
    {
     "name": "stdout",
     "output_type": "stream",
     "text": [
      "epoch 1, loss 1.2110, train acc 0.528, test acc 0.745\n",
      "epoch 2, loss 0.5976, train acc 0.776, test acc 0.829\n",
      "epoch 3, loss 0.4976, train acc 0.818, test acc 0.831\n",
      "epoch 4, loss 0.4506, train acc 0.836, test acc 0.861\n",
      "epoch 5, loss 0.4237, train acc 0.845, test acc 0.865\n"
     ]
    }
   ],
   "source": [
    "trainer=gluon.Trainer(net.collect_params(),'sgd',{'learning_rate':lr})\n",
    "d2l.train_ch3(net,train_iter,test_iter,loss,num_epochs,batch_size,None,None,trainer)"
   ]
  }
 ],
 "metadata": {
  "kernelspec": {
   "display_name": "Python 3",
   "language": "python",
   "name": "python3"
  },
  "language_info": {
   "codemirror_mode": {
    "name": "ipython",
    "version": 3
   },
   "file_extension": ".py",
   "mimetype": "text/x-python",
   "name": "python",
   "nbconvert_exporter": "python",
   "pygments_lexer": "ipython3",
   "version": "3.7.2"
  }
 },
 "nbformat": 4,
 "nbformat_minor": 2
}
