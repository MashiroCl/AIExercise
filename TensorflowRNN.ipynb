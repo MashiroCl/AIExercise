{
 "cells": [
  {
   "cell_type": "code",
   "execution_count": 19,
   "metadata": {},
   "outputs": [
    {
     "name": "stdout",
     "output_type": "stream",
     "text": [
      "Extracting E:/ML_Dataset/MNIST/train-images-idx3-ubyte.gz\n",
      "Extracting E:/ML_Dataset/MNIST/train-labels-idx1-ubyte.gz\n",
      "Extracting E:/ML_Dataset/MNIST/t10k-images-idx3-ubyte.gz\n",
      "Extracting E:/ML_Dataset/MNIST/t10k-labels-idx1-ubyte.gz\n"
     ]
    }
   ],
   "source": [
    "import tensorflow as tf\n",
    "from tensorflow.examples.tutorials.mnist import input_data\n",
    "tf.logging.set_verbosity(tf.logging.ERROR)\n",
    "mnist=input_data.read_data_sets(\"E:/ML_Dataset/MNIST/\",one_hot=True)\n",
    "tf.set_random_seed(1)\n",
    "\n",
    "#hyprtparameters\n",
    "lr=0.01\n",
    "training_iters=100000\n",
    "batch_size=128\n",
    "n_inputs=28\n",
    "n_steps=28\n",
    "n_hidden_units=128\n",
    "n_classes=10"
   ]
  },
  {
   "cell_type": "code",
   "execution_count": 2,
   "metadata": {},
   "outputs": [],
   "source": [
    "x=tf.placeholder(tf.float32,[None,n_steps,n_inputs])\n",
    "y=tf.placeholder(tf.float32,[None,n_classes])\n",
    "\n",
    "weights={\n",
    "    #shape(28,128)\n",
    "    'in':tf.Variable(tf.random_normal([n_inputs,n_hidden_units])),\n",
    "    #shape(128,10)\n",
    "    'out':tf.Variable(tf.random_normal([n_hidden_units,n_classes]))\n",
    "}\n",
    "\n",
    "biases={\n",
    "    #shape(128,)\n",
    "    'in':tf.Variable(tf.constant(0.1,shape=[n_hidden_units,])),\n",
    "    #shape(10,)\n",
    "    'out':tf.Variable(tf.constant(0.1,shape=[n_classes,]))\n",
    "}"
   ]
  },
  {
   "cell_type": "code",
   "execution_count": 14,
   "metadata": {},
   "outputs": [],
   "source": [
    "def RNN(X,weights,biases):\n",
    "    #X==>(128 batches*28steps,28 inputs)\n",
    "    X=tf.reshape(X,[-1,n_inputs])\n",
    "    \n",
    "    X_in=tf.matmul(X,weights['in'])+biases['in']\n",
    "    \n",
    "    X_in=tf.reshape(X_in,[-1,n_steps,n_hidden_units])\n",
    "    \n",
    "    with tf.variable_scope('scope1'):    \n",
    "        lstm_cell=tf.contrib.rnn.BasicLSTMCell(n_hidden_units,forget_bias=1.0,state_is_tuple=True)\n",
    "    init_state=lstm_cell.zero_state(batch_size,dtype=tf.float32)\n",
    "    \n",
    "    with tf.variable_scope('scope2',reuse=tf.AUTO_REUSE):\n",
    "        outputs,final_state=tf.nn.dynamic_rnn(lstm_cell,X_in,initial_state=init_state,time_major=False)\n",
    "    \n",
    "    results=tf.matmul(final_state[1],weights['out'])+biases['out']\n",
    "    \n",
    "    return results"
   ]
  },
  {
   "cell_type": "code",
   "execution_count": 16,
   "metadata": {},
   "outputs": [],
   "source": [
    "pred=RNN(x,weights,biases)\n",
    "cost=tf.reduce_mean(tf.nn.softmax_cross_entropy_with_logits(logits=pred,labels=y))\n",
    "train_op=tf.train.AdamOptimizer(lr).minimize(cost)"
   ]
  },
  {
   "cell_type": "markdown",
   "metadata": {},
   "source": [
    "### 训练RNN"
   ]
  },
  {
   "cell_type": "code",
   "execution_count": 21,
   "metadata": {},
   "outputs": [
    {
     "name": "stdout",
     "output_type": "stream",
     "text": [
      "0.2265625\n",
      "0.5625\n",
      "0.71875\n",
      "0.78125\n",
      "0.875\n",
      "0.8125\n",
      "0.8046875\n",
      "0.859375\n",
      "0.8359375\n",
      "0.8671875\n",
      "0.828125\n",
      "0.8671875\n",
      "0.859375\n",
      "0.90625\n",
      "0.9140625\n",
      "0.9296875\n",
      "0.875\n",
      "0.9296875\n",
      "0.890625\n",
      "0.9375\n",
      "0.90625\n",
      "0.96875\n",
      "0.875\n",
      "0.96875\n",
      "0.953125\n",
      "0.921875\n",
      "0.953125\n",
      "0.9375\n",
      "0.9140625\n",
      "0.9375\n",
      "0.9375\n",
      "0.953125\n",
      "0.9375\n",
      "0.9453125\n",
      "0.9453125\n",
      "0.953125\n",
      "0.9453125\n",
      "0.953125\n",
      "0.9609375\n",
      "0.9296875\n"
     ]
    }
   ],
   "source": [
    "correct_pred=tf.equal(tf.argmax(pred,1),tf.argmax(y,1))\n",
    "accuracy=tf.reduce_mean(tf.cast(correct_pred,tf.float32))\n",
    "\n",
    "init=tf.global_variables_initializer()\n",
    "\n",
    "with tf.Session() as sess:\n",
    "    sess.run(init)\n",
    "    step=0\n",
    "    while step*batch_size<training_iters:\n",
    "        batch_xs,batch_ys=mnist.train.next_batch(batch_size)\n",
    "        batch_xs=batch_xs.reshape([batch_size,n_steps,n_inputs])\n",
    "        sess.run([train_op],feed_dict={\n",
    "            x:batch_xs,\n",
    "            y:batch_ys,\n",
    "        })\n",
    "        if step%20==0:\n",
    "            print(sess.run(accuracy,feed_dict={\n",
    "                x:batch_xs,\n",
    "                y:batch_ys\n",
    "            }))\n",
    "        step+=1"
   ]
  }
 ],
 "metadata": {
  "kernelspec": {
   "display_name": "Python 3",
   "language": "python",
   "name": "python3"
  },
  "language_info": {
   "codemirror_mode": {
    "name": "ipython",
    "version": 3
   },
   "file_extension": ".py",
   "mimetype": "text/x-python",
   "name": "python",
   "nbconvert_exporter": "python",
   "pygments_lexer": "ipython3",
   "version": "3.7.2"
  }
 },
 "nbformat": 4,
 "nbformat_minor": 2
}
